{
 "cells": [
  {
   "cell_type": "code",
   "execution_count": 3,
   "id": "1aef8103",
   "metadata": {},
   "outputs": [
    {
     "name": "stdout",
     "output_type": "stream",
     "text": [
      "--- Setup: Loading libraries ---\n",
      "Downloading NLTK WordNet...\n",
      "NLTK resources are ready. ✓\n",
      "\n",
      "--- 1. Loading Data ---\n",
      "Data loaded successfully.\n",
      "\n",
      "--- 2. Performing Text Preprocessing for Topic Modeling ---\n",
      "Applying preprocessing to 'CustomerFeedback' column...\n"
     ]
    },
    {
     "name": "stderr",
     "output_type": "stream",
     "text": [
      "[nltk_data] Downloading package wordnet to C:\\Users\\P RAJ\n",
      "[nltk_data]     KIRAN\\AppData\\Roaming\\nltk_data...\n",
      "[nltk_data]   Package wordnet is already up-to-date!\n"
     ]
    },
    {
     "name": "stdout",
     "output_type": "stream",
     "text": [
      "Text preprocessing complete.\n",
      "Sample of preprocessed feedback:\n",
      "                                    CustomerFeedback  \\\n",
      "0  I have been using the DSL internet service fro...   \n",
      "1  I have been a customer with this company for o...   \n",
      "2  I recently signed up for DSL internet service ...   \n",
      "3  I have been a loyal customer with this company...   \n",
      "4  I recently switched to this fiber optic intern...   \n",
      "\n",
      "                                   ProcessedFeedback  \n",
      "0  using dsl internet service provider past month...  \n",
      "1  customer company two half year satisfied servi...  \n",
      "2  recently signed dsl internet service provider ...  \n",
      "3  loyal customer company month satisfied service...  \n",
      "4  recently switched fiber optic internet service...  \n",
      "\n",
      "--- 3. Training BERTopic Model ---\n",
      "Training topic model on 7043 documents...\n",
      "Topic modeling complete. ✓\n",
      "\n",
      "--- 4. Analyzing Discovered Topics ---\n",
      "Top 10 Discovered Topics:\n",
      "    Topic  Count                                 Name  \\\n",
      "0      -1    584     -1_dsl_provider_service_internet   \n",
      "1       0   1845           0_optic_fiber_quality_fast   \n",
      "2       1   1246  1_decided_recently_ultimately_fiber   \n",
      "3       2    792           2_mailed_company_check_pay   \n",
      "4       3    536        3_dsl_year_appreciate_service   \n",
      "5       4    248             4_transfer_bank_dsl_year   \n",
      "6       5    194     5_decided_recently_different_dsl   \n",
      "7       6    185          6_dsl_credit_card_automatic   \n",
      "8       7    167          7_bank_transfer_though_even   \n",
      "9       8    154          8_dsl_check_appreciate_plan   \n",
      "10      9    154    9_transfer_bank_automatic_company   \n",
      "\n",
      "                                       Representation  \\\n",
      "0   [dsl, provider, service, internet, overall, mo...   \n",
      "1   [optic, fiber, quality, fast, service, extreme...   \n",
      "2   [decided, recently, ultimately, fiber, optic, ...   \n",
      "3   [mailed, company, check, pay, customer, apprec...   \n",
      "4   [dsl, year, appreciate, service, card, credit,...   \n",
      "5   [transfer, bank, dsl, year, automatic, service...   \n",
      "6   [decided, recently, different, dsl, found, swi...   \n",
      "7   [dsl, credit, card, automatic, provider, inter...   \n",
      "8   [bank, transfer, though, even, year, company, ...   \n",
      "9   [dsl, check, appreciate, plan, month, service,...   \n",
      "10  [transfer, bank, automatic, company, even, tho...   \n",
      "\n",
      "                                  Representative_Docs  \n",
      "0   [customer dsl internet service provider month ...  \n",
      "1   [customer company year extremely satisfied ser...  \n",
      "2   [recently decided switch internet provider com...  \n",
      "3   [customer company month monthtomonth contract ...  \n",
      "4   [customer internet service provider year satis...  \n",
      "5   [customer company year satisfied dsl internet ...  \n",
      "6   [recently cancelled dsl internet service provi...  \n",
      "7   [customer company month satisfied service dsl ...  \n",
      "8   [customer company year satisfied service autom...  \n",
      "9   [customer dsl internet service provider month ...  \n",
      "10  [customer company month far satisfied service ...  \n",
      "\n",
      "Generating Topic Frequency Bar Chart...\n"
     ]
    },
    {
     "data": {
      "application/vnd.plotly.v1+json": {
       "config": {
        "plotlyServerURL": "https://plot.ly"
       },
       "data": [
        {
         "marker": {
          "color": "#D55E00"
         },
         "orientation": "h",
         "type": "bar",
         "x": [
          0.03490837887588842,
          0.03931815611048036,
          0.040328082055063275,
          0.04161916510148411,
          0.04161916510148411
         ],
         "xaxis": "x",
         "y": [
          "service  ",
          "fast  ",
          "quality  ",
          "fiber  ",
          "optic  "
         ],
         "yaxis": "y"
        },
        {
         "marker": {
          "color": "#0072B2"
         },
         "orientation": "h",
         "type": "bar",
         "x": [
          0.037124747942097865,
          0.037124747942097865,
          0.03999617866535114,
          0.041538548712678015,
          0.052229416335342685
         ],
         "xaxis": "x2",
         "y": [
          "optic  ",
          "fiber  ",
          "ultimately  ",
          "recently  ",
          "decided  "
         ],
         "yaxis": "y2"
        },
        {
         "marker": {
          "color": "#CC79A7"
         },
         "orientation": "h",
         "type": "bar",
         "x": [
          0.04064923094391937,
          0.04183326563371341,
          0.04393305601701038,
          0.04962112638329073,
          0.0501854484897581
         ],
         "xaxis": "x3",
         "y": [
          "customer  ",
          "pay  ",
          "check  ",
          "company  ",
          "mailed  "
         ],
         "yaxis": "y3"
        },
        {
         "marker": {
          "color": "#E69F00"
         },
         "orientation": "h",
         "type": "bar",
         "x": [
          0.037274004132130265,
          0.03761022934885284,
          0.038882726107737534,
          0.053924476693851184,
          0.05636376990790735
         ],
         "xaxis": "x4",
         "y": [
          "card  ",
          "service  ",
          "appreciate  ",
          "year  ",
          "dsl  "
         ],
         "yaxis": "y4"
        },
        {
         "marker": {
          "color": "#56B4E9"
         },
         "orientation": "h",
         "type": "bar",
         "x": [
          0.04738188604871965,
          0.04867233775390247,
          0.05336687457040618,
          0.06491043996056066,
          0.06492786182578934
         ],
         "xaxis": "x5",
         "y": [
          "automatic  ",
          "year  ",
          "dsl  ",
          "bank  ",
          "transfer  "
         ],
         "yaxis": "y5"
        },
        {
         "marker": {
          "color": "#009E73"
         },
         "orientation": "h",
         "type": "bar",
         "x": [
          0.04468559813690355,
          0.04596888883145735,
          0.05374395995674211,
          0.05432211890530297,
          0.059720565949456204
         ],
         "xaxis": "x6",
         "y": [
          "found  ",
          "dsl  ",
          "different  ",
          "recently  ",
          "decided  "
         ],
         "yaxis": "y6"
        },
        {
         "marker": {
          "color": "#F0E442"
         },
         "orientation": "h",
         "type": "bar",
         "x": [
          0.042962091331666646,
          0.04397659749560607,
          0.05248710272277762,
          0.05248710272277762,
          0.05268385257976509
         ],
         "xaxis": "x7",
         "y": [
          "provider  ",
          "automatic  ",
          "card  ",
          "credit  ",
          "dsl  "
         ],
         "yaxis": "y7"
        },
        {
         "marker": {
          "color": "#D55E00"
         },
         "orientation": "h",
         "type": "bar",
         "x": [
          0.054471404126275,
          0.059126106003269674,
          0.060524857136273404,
          0.06405305164666593,
          0.06442162273615851
         ],
         "xaxis": "x8",
         "y": [
          "year  ",
          "even  ",
          "though  ",
          "transfer  ",
          "bank  "
         ],
         "yaxis": "y8"
        },
        {
         "marker": {
          "color": "#0072B2"
         },
         "orientation": "h",
         "type": "bar",
         "x": [
          0.04261524851683383,
          0.044194821167525565,
          0.04650601380546281,
          0.04780620372145858,
          0.060879157297473584
         ],
         "xaxis": "x9",
         "y": [
          "month  ",
          "plan  ",
          "appreciate  ",
          "check  ",
          "dsl  "
         ],
         "yaxis": "y9"
        },
        {
         "marker": {
          "color": "#CC79A7"
         },
         "orientation": "h",
         "type": "bar",
         "x": [
          0.04303506858423274,
          0.05030332310023609,
          0.05178786712868337,
          0.06830241445538766,
          0.0683207467215094
         ],
         "xaxis": "x10",
         "y": [
          "even  ",
          "company  ",
          "automatic  ",
          "bank  ",
          "transfer  "
         ],
         "yaxis": "y10"
        }
       ],
       "layout": {
        "annotations": [
         {
          "font": {
           "size": 16
          },
          "showarrow": false,
          "text": "Topic 0",
          "x": 0.0875,
          "xanchor": "center",
          "xref": "paper",
          "y": 1,
          "yanchor": "bottom",
          "yref": "paper"
         },
         {
          "font": {
           "size": 16
          },
          "showarrow": false,
          "text": "Topic 1",
          "x": 0.36250000000000004,
          "xanchor": "center",
          "xref": "paper",
          "y": 1,
          "yanchor": "bottom",
          "yref": "paper"
         },
         {
          "font": {
           "size": 16
          },
          "showarrow": false,
          "text": "Topic 2",
          "x": 0.6375000000000001,
          "xanchor": "center",
          "xref": "paper",
          "y": 1,
          "yanchor": "bottom",
          "yref": "paper"
         },
         {
          "font": {
           "size": 16
          },
          "showarrow": false,
          "text": "Topic 3",
          "x": 0.9125,
          "xanchor": "center",
          "xref": "paper",
          "y": 1,
          "yanchor": "bottom",
          "yref": "paper"
         },
         {
          "font": {
           "size": 16
          },
          "showarrow": false,
          "text": "Topic 4",
          "x": 0.0875,
          "xanchor": "center",
          "xref": "paper",
          "y": 0.6222222222222222,
          "yanchor": "bottom",
          "yref": "paper"
         },
         {
          "font": {
           "size": 16
          },
          "showarrow": false,
          "text": "Topic 5",
          "x": 0.36250000000000004,
          "xanchor": "center",
          "xref": "paper",
          "y": 0.6222222222222222,
          "yanchor": "bottom",
          "yref": "paper"
         },
         {
          "font": {
           "size": 16
          },
          "showarrow": false,
          "text": "Topic 6",
          "x": 0.6375000000000001,
          "xanchor": "center",
          "xref": "paper",
          "y": 0.6222222222222222,
          "yanchor": "bottom",
          "yref": "paper"
         },
         {
          "font": {
           "size": 16
          },
          "showarrow": false,
          "text": "Topic 7",
          "x": 0.9125,
          "xanchor": "center",
          "xref": "paper",
          "y": 0.6222222222222222,
          "yanchor": "bottom",
          "yref": "paper"
         },
         {
          "font": {
           "size": 16
          },
          "showarrow": false,
          "text": "Topic 8",
          "x": 0.0875,
          "xanchor": "center",
          "xref": "paper",
          "y": 0.24444444444444446,
          "yanchor": "bottom",
          "yref": "paper"
         },
         {
          "font": {
           "size": 16
          },
          "showarrow": false,
          "text": "Topic 9",
          "x": 0.36250000000000004,
          "xanchor": "center",
          "xref": "paper",
          "y": 0.24444444444444446,
          "yanchor": "bottom",
          "yref": "paper"
         }
        ],
        "height": 750,
        "hoverlabel": {
         "bgcolor": "white",
         "font": {
          "family": "Rockwell",
          "size": 16
         }
        },
        "showlegend": false,
        "template": {
         "data": {
          "bar": [
           {
            "error_x": {
             "color": "#2a3f5f"
            },
            "error_y": {
             "color": "#2a3f5f"
            },
            "marker": {
             "line": {
              "color": "white",
              "width": 0.5
             },
             "pattern": {
              "fillmode": "overlay",
              "size": 10,
              "solidity": 0.2
             }
            },
            "type": "bar"
           }
          ],
          "barpolar": [
           {
            "marker": {
             "line": {
              "color": "white",
              "width": 0.5
             },
             "pattern": {
              "fillmode": "overlay",
              "size": 10,
              "solidity": 0.2
             }
            },
            "type": "barpolar"
           }
          ],
          "carpet": [
           {
            "aaxis": {
             "endlinecolor": "#2a3f5f",
             "gridcolor": "#C8D4E3",
             "linecolor": "#C8D4E3",
             "minorgridcolor": "#C8D4E3",
             "startlinecolor": "#2a3f5f"
            },
            "baxis": {
             "endlinecolor": "#2a3f5f",
             "gridcolor": "#C8D4E3",
             "linecolor": "#C8D4E3",
             "minorgridcolor": "#C8D4E3",
             "startlinecolor": "#2a3f5f"
            },
            "type": "carpet"
           }
          ],
          "choropleth": [
           {
            "colorbar": {
             "outlinewidth": 0,
             "ticks": ""
            },
            "type": "choropleth"
           }
          ],
          "contour": [
           {
            "colorbar": {
             "outlinewidth": 0,
             "ticks": ""
            },
            "colorscale": [
             [
              0,
              "#0d0887"
             ],
             [
              0.1111111111111111,
              "#46039f"
             ],
             [
              0.2222222222222222,
              "#7201a8"
             ],
             [
              0.3333333333333333,
              "#9c179e"
             ],
             [
              0.4444444444444444,
              "#bd3786"
             ],
             [
              0.5555555555555556,
              "#d8576b"
             ],
             [
              0.6666666666666666,
              "#ed7953"
             ],
             [
              0.7777777777777778,
              "#fb9f3a"
             ],
             [
              0.8888888888888888,
              "#fdca26"
             ],
             [
              1,
              "#f0f921"
             ]
            ],
            "type": "contour"
           }
          ],
          "contourcarpet": [
           {
            "colorbar": {
             "outlinewidth": 0,
             "ticks": ""
            },
            "type": "contourcarpet"
           }
          ],
          "heatmap": [
           {
            "colorbar": {
             "outlinewidth": 0,
             "ticks": ""
            },
            "colorscale": [
             [
              0,
              "#0d0887"
             ],
             [
              0.1111111111111111,
              "#46039f"
             ],
             [
              0.2222222222222222,
              "#7201a8"
             ],
             [
              0.3333333333333333,
              "#9c179e"
             ],
             [
              0.4444444444444444,
              "#bd3786"
             ],
             [
              0.5555555555555556,
              "#d8576b"
             ],
             [
              0.6666666666666666,
              "#ed7953"
             ],
             [
              0.7777777777777778,
              "#fb9f3a"
             ],
             [
              0.8888888888888888,
              "#fdca26"
             ],
             [
              1,
              "#f0f921"
             ]
            ],
            "type": "heatmap"
           }
          ],
          "heatmapgl": [
           {
            "colorbar": {
             "outlinewidth": 0,
             "ticks": ""
            },
            "colorscale": [
             [
              0,
              "#0d0887"
             ],
             [
              0.1111111111111111,
              "#46039f"
             ],
             [
              0.2222222222222222,
              "#7201a8"
             ],
             [
              0.3333333333333333,
              "#9c179e"
             ],
             [
              0.4444444444444444,
              "#bd3786"
             ],
             [
              0.5555555555555556,
              "#d8576b"
             ],
             [
              0.6666666666666666,
              "#ed7953"
             ],
             [
              0.7777777777777778,
              "#fb9f3a"
             ],
             [
              0.8888888888888888,
              "#fdca26"
             ],
             [
              1,
              "#f0f921"
             ]
            ],
            "type": "heatmapgl"
           }
          ],
          "histogram": [
           {
            "marker": {
             "pattern": {
              "fillmode": "overlay",
              "size": 10,
              "solidity": 0.2
             }
            },
            "type": "histogram"
           }
          ],
          "histogram2d": [
           {
            "colorbar": {
             "outlinewidth": 0,
             "ticks": ""
            },
            "colorscale": [
             [
              0,
              "#0d0887"
             ],
             [
              0.1111111111111111,
              "#46039f"
             ],
             [
              0.2222222222222222,
              "#7201a8"
             ],
             [
              0.3333333333333333,
              "#9c179e"
             ],
             [
              0.4444444444444444,
              "#bd3786"
             ],
             [
              0.5555555555555556,
              "#d8576b"
             ],
             [
              0.6666666666666666,
              "#ed7953"
             ],
             [
              0.7777777777777778,
              "#fb9f3a"
             ],
             [
              0.8888888888888888,
              "#fdca26"
             ],
             [
              1,
              "#f0f921"
             ]
            ],
            "type": "histogram2d"
           }
          ],
          "histogram2dcontour": [
           {
            "colorbar": {
             "outlinewidth": 0,
             "ticks": ""
            },
            "colorscale": [
             [
              0,
              "#0d0887"
             ],
             [
              0.1111111111111111,
              "#46039f"
             ],
             [
              0.2222222222222222,
              "#7201a8"
             ],
             [
              0.3333333333333333,
              "#9c179e"
             ],
             [
              0.4444444444444444,
              "#bd3786"
             ],
             [
              0.5555555555555556,
              "#d8576b"
             ],
             [
              0.6666666666666666,
              "#ed7953"
             ],
             [
              0.7777777777777778,
              "#fb9f3a"
             ],
             [
              0.8888888888888888,
              "#fdca26"
             ],
             [
              1,
              "#f0f921"
             ]
            ],
            "type": "histogram2dcontour"
           }
          ],
          "mesh3d": [
           {
            "colorbar": {
             "outlinewidth": 0,
             "ticks": ""
            },
            "type": "mesh3d"
           }
          ],
          "parcoords": [
           {
            "line": {
             "colorbar": {
              "outlinewidth": 0,
              "ticks": ""
             }
            },
            "type": "parcoords"
           }
          ],
          "pie": [
           {
            "automargin": true,
            "type": "pie"
           }
          ],
          "scatter": [
           {
            "fillpattern": {
             "fillmode": "overlay",
             "size": 10,
             "solidity": 0.2
            },
            "type": "scatter"
           }
          ],
          "scatter3d": [
           {
            "line": {
             "colorbar": {
              "outlinewidth": 0,
              "ticks": ""
             }
            },
            "marker": {
             "colorbar": {
              "outlinewidth": 0,
              "ticks": ""
             }
            },
            "type": "scatter3d"
           }
          ],
          "scattercarpet": [
           {
            "marker": {
             "colorbar": {
              "outlinewidth": 0,
              "ticks": ""
             }
            },
            "type": "scattercarpet"
           }
          ],
          "scattergeo": [
           {
            "marker": {
             "colorbar": {
              "outlinewidth": 0,
              "ticks": ""
             }
            },
            "type": "scattergeo"
           }
          ],
          "scattergl": [
           {
            "marker": {
             "colorbar": {
              "outlinewidth": 0,
              "ticks": ""
             }
            },
            "type": "scattergl"
           }
          ],
          "scattermapbox": [
           {
            "marker": {
             "colorbar": {
              "outlinewidth": 0,
              "ticks": ""
             }
            },
            "type": "scattermapbox"
           }
          ],
          "scatterpolar": [
           {
            "marker": {
             "colorbar": {
              "outlinewidth": 0,
              "ticks": ""
             }
            },
            "type": "scatterpolar"
           }
          ],
          "scatterpolargl": [
           {
            "marker": {
             "colorbar": {
              "outlinewidth": 0,
              "ticks": ""
             }
            },
            "type": "scatterpolargl"
           }
          ],
          "scatterternary": [
           {
            "marker": {
             "colorbar": {
              "outlinewidth": 0,
              "ticks": ""
             }
            },
            "type": "scatterternary"
           }
          ],
          "surface": [
           {
            "colorbar": {
             "outlinewidth": 0,
             "ticks": ""
            },
            "colorscale": [
             [
              0,
              "#0d0887"
             ],
             [
              0.1111111111111111,
              "#46039f"
             ],
             [
              0.2222222222222222,
              "#7201a8"
             ],
             [
              0.3333333333333333,
              "#9c179e"
             ],
             [
              0.4444444444444444,
              "#bd3786"
             ],
             [
              0.5555555555555556,
              "#d8576b"
             ],
             [
              0.6666666666666666,
              "#ed7953"
             ],
             [
              0.7777777777777778,
              "#fb9f3a"
             ],
             [
              0.8888888888888888,
              "#fdca26"
             ],
             [
              1,
              "#f0f921"
             ]
            ],
            "type": "surface"
           }
          ],
          "table": [
           {
            "cells": {
             "fill": {
              "color": "#EBF0F8"
             },
             "line": {
              "color": "white"
             }
            },
            "header": {
             "fill": {
              "color": "#C8D4E3"
             },
             "line": {
              "color": "white"
             }
            },
            "type": "table"
           }
          ]
         },
         "layout": {
          "annotationdefaults": {
           "arrowcolor": "#2a3f5f",
           "arrowhead": 0,
           "arrowwidth": 1
          },
          "autotypenumbers": "strict",
          "coloraxis": {
           "colorbar": {
            "outlinewidth": 0,
            "ticks": ""
           }
          },
          "colorscale": {
           "diverging": [
            [
             0,
             "#8e0152"
            ],
            [
             0.1,
             "#c51b7d"
            ],
            [
             0.2,
             "#de77ae"
            ],
            [
             0.3,
             "#f1b6da"
            ],
            [
             0.4,
             "#fde0ef"
            ],
            [
             0.5,
             "#f7f7f7"
            ],
            [
             0.6,
             "#e6f5d0"
            ],
            [
             0.7,
             "#b8e186"
            ],
            [
             0.8,
             "#7fbc41"
            ],
            [
             0.9,
             "#4d9221"
            ],
            [
             1,
             "#276419"
            ]
           ],
           "sequential": [
            [
             0,
             "#0d0887"
            ],
            [
             0.1111111111111111,
             "#46039f"
            ],
            [
             0.2222222222222222,
             "#7201a8"
            ],
            [
             0.3333333333333333,
             "#9c179e"
            ],
            [
             0.4444444444444444,
             "#bd3786"
            ],
            [
             0.5555555555555556,
             "#d8576b"
            ],
            [
             0.6666666666666666,
             "#ed7953"
            ],
            [
             0.7777777777777778,
             "#fb9f3a"
            ],
            [
             0.8888888888888888,
             "#fdca26"
            ],
            [
             1,
             "#f0f921"
            ]
           ],
           "sequentialminus": [
            [
             0,
             "#0d0887"
            ],
            [
             0.1111111111111111,
             "#46039f"
            ],
            [
             0.2222222222222222,
             "#7201a8"
            ],
            [
             0.3333333333333333,
             "#9c179e"
            ],
            [
             0.4444444444444444,
             "#bd3786"
            ],
            [
             0.5555555555555556,
             "#d8576b"
            ],
            [
             0.6666666666666666,
             "#ed7953"
            ],
            [
             0.7777777777777778,
             "#fb9f3a"
            ],
            [
             0.8888888888888888,
             "#fdca26"
            ],
            [
             1,
             "#f0f921"
            ]
           ]
          },
          "colorway": [
           "#636efa",
           "#EF553B",
           "#00cc96",
           "#ab63fa",
           "#FFA15A",
           "#19d3f3",
           "#FF6692",
           "#B6E880",
           "#FF97FF",
           "#FECB52"
          ],
          "font": {
           "color": "#2a3f5f"
          },
          "geo": {
           "bgcolor": "white",
           "lakecolor": "white",
           "landcolor": "white",
           "showlakes": true,
           "showland": true,
           "subunitcolor": "#C8D4E3"
          },
          "hoverlabel": {
           "align": "left"
          },
          "hovermode": "closest",
          "mapbox": {
           "style": "light"
          },
          "paper_bgcolor": "white",
          "plot_bgcolor": "white",
          "polar": {
           "angularaxis": {
            "gridcolor": "#EBF0F8",
            "linecolor": "#EBF0F8",
            "ticks": ""
           },
           "bgcolor": "white",
           "radialaxis": {
            "gridcolor": "#EBF0F8",
            "linecolor": "#EBF0F8",
            "ticks": ""
           }
          },
          "scene": {
           "xaxis": {
            "backgroundcolor": "white",
            "gridcolor": "#DFE8F3",
            "gridwidth": 2,
            "linecolor": "#EBF0F8",
            "showbackground": true,
            "ticks": "",
            "zerolinecolor": "#EBF0F8"
           },
           "yaxis": {
            "backgroundcolor": "white",
            "gridcolor": "#DFE8F3",
            "gridwidth": 2,
            "linecolor": "#EBF0F8",
            "showbackground": true,
            "ticks": "",
            "zerolinecolor": "#EBF0F8"
           },
           "zaxis": {
            "backgroundcolor": "white",
            "gridcolor": "#DFE8F3",
            "gridwidth": 2,
            "linecolor": "#EBF0F8",
            "showbackground": true,
            "ticks": "",
            "zerolinecolor": "#EBF0F8"
           }
          },
          "shapedefaults": {
           "line": {
            "color": "#2a3f5f"
           }
          },
          "ternary": {
           "aaxis": {
            "gridcolor": "#DFE8F3",
            "linecolor": "#A2B1C6",
            "ticks": ""
           },
           "baxis": {
            "gridcolor": "#DFE8F3",
            "linecolor": "#A2B1C6",
            "ticks": ""
           },
           "bgcolor": "white",
           "caxis": {
            "gridcolor": "#DFE8F3",
            "linecolor": "#A2B1C6",
            "ticks": ""
           }
          },
          "title": {
           "x": 0.05
          },
          "xaxis": {
           "automargin": true,
           "gridcolor": "#EBF0F8",
           "linecolor": "#EBF0F8",
           "ticks": "",
           "title": {
            "standoff": 15
           },
           "zerolinecolor": "#EBF0F8",
           "zerolinewidth": 2
          },
          "yaxis": {
           "automargin": true,
           "gridcolor": "#EBF0F8",
           "linecolor": "#EBF0F8",
           "ticks": "",
           "title": {
            "standoff": 15
           },
           "zerolinecolor": "#EBF0F8",
           "zerolinewidth": 2
          }
         }
        },
        "title": {
         "font": {
          "color": "Black",
          "size": 22
         },
         "text": "Top 10 Most Frequent Topics",
         "x": 0.5,
         "xanchor": "center",
         "yanchor": "top"
        },
        "width": 1000,
        "xaxis": {
         "anchor": "y",
         "domain": [
          0,
          0.175
         ],
         "showgrid": true
        },
        "xaxis10": {
         "anchor": "y10",
         "domain": [
          0.275,
          0.45
         ],
         "showgrid": true
        },
        "xaxis11": {
         "anchor": "y11",
         "domain": [
          0.55,
          0.7250000000000001
         ],
         "showgrid": true
        },
        "xaxis12": {
         "anchor": "y12",
         "domain": [
          0.825,
          1
         ],
         "showgrid": true
        },
        "xaxis2": {
         "anchor": "y2",
         "domain": [
          0.275,
          0.45
         ],
         "showgrid": true
        },
        "xaxis3": {
         "anchor": "y3",
         "domain": [
          0.55,
          0.7250000000000001
         ],
         "showgrid": true
        },
        "xaxis4": {
         "anchor": "y4",
         "domain": [
          0.825,
          1
         ],
         "showgrid": true
        },
        "xaxis5": {
         "anchor": "y5",
         "domain": [
          0,
          0.175
         ],
         "showgrid": true
        },
        "xaxis6": {
         "anchor": "y6",
         "domain": [
          0.275,
          0.45
         ],
         "showgrid": true
        },
        "xaxis7": {
         "anchor": "y7",
         "domain": [
          0.55,
          0.7250000000000001
         ],
         "showgrid": true
        },
        "xaxis8": {
         "anchor": "y8",
         "domain": [
          0.825,
          1
         ],
         "showgrid": true
        },
        "xaxis9": {
         "anchor": "y9",
         "domain": [
          0,
          0.175
         ],
         "showgrid": true
        },
        "yaxis": {
         "anchor": "x",
         "domain": [
          0.7555555555555555,
          1
         ],
         "showgrid": true
        },
        "yaxis10": {
         "anchor": "x10",
         "domain": [
          0,
          0.24444444444444446
         ],
         "showgrid": true
        },
        "yaxis11": {
         "anchor": "x11",
         "domain": [
          0,
          0.24444444444444446
         ],
         "showgrid": true
        },
        "yaxis12": {
         "anchor": "x12",
         "domain": [
          0,
          0.24444444444444446
         ],
         "showgrid": true
        },
        "yaxis2": {
         "anchor": "x2",
         "domain": [
          0.7555555555555555,
          1
         ],
         "showgrid": true
        },
        "yaxis3": {
         "anchor": "x3",
         "domain": [
          0.7555555555555555,
          1
         ],
         "showgrid": true
        },
        "yaxis4": {
         "anchor": "x4",
         "domain": [
          0.7555555555555555,
          1
         ],
         "showgrid": true
        },
        "yaxis5": {
         "anchor": "x5",
         "domain": [
          0.37777777777777777,
          0.6222222222222222
         ],
         "showgrid": true
        },
        "yaxis6": {
         "anchor": "x6",
         "domain": [
          0.37777777777777777,
          0.6222222222222222
         ],
         "showgrid": true
        },
        "yaxis7": {
         "anchor": "x7",
         "domain": [
          0.37777777777777777,
          0.6222222222222222
         ],
         "showgrid": true
        },
        "yaxis8": {
         "anchor": "x8",
         "domain": [
          0.37777777777777777,
          0.6222222222222222
         ],
         "showgrid": true
        },
        "yaxis9": {
         "anchor": "x9",
         "domain": [
          0,
          0.24444444444444446
         ],
         "showgrid": true
        }
       }
      }
     },
     "metadata": {},
     "output_type": "display_data"
    },
    {
     "name": "stdout",
     "output_type": "stream",
     "text": [
      "\n",
      "--- 5. Saving Topic Model and Data ---\n",
      "BERTopic model saved to 'bertopic_model.pkl'\n",
      "Sample data with topics saved to 'telco_churn_with_topics_sample.csv'\n",
      "\n",
      "Topic modeling process is complete.\n"
     ]
    }
   ],
   "source": [
    "import pandas as pd\n",
    "import numpy as np\n",
    "import re\n",
    "import nltk\n",
    "from nltk.corpus import stopwords\n",
    "from nltk.stem import WordNetLemmatizer\n",
    "from bertopic import BERTopic\n",
    "import joblib\n",
    "import warnings\n",
    "\n",
    "# --- Setup ---\n",
    "warnings.filterwarnings('ignore')\n",
    "print(\"--- Setup: Loading libraries ---\")\n",
    "\n",
    "# Download necessary NLTK data (only needs to be done once per environment)\n",
    "try:\n",
    "    stopwords.words('english')\n",
    "except LookupError:\n",
    "    print(\"Downloading NLTK stopwords...\")\n",
    "    nltk.download('stopwords')\n",
    "try:\n",
    "    nltk.data.find('wordnet')\n",
    "except LookupError:\n",
    "    print(\"Downloading NLTK WordNet...\")\n",
    "    nltk.download('wordnet')\n",
    "print(\"NLTK resources are ready. ✓\")\n",
    "\n",
    "\n",
    "# --- 1. Load Data ---\n",
    "print(\"\\n--- 1. Loading Data ---\")\n",
    "try:\n",
    "    df = pd.read_csv('telco_churn_with_all_feedback.csv')\n",
    "    df['CustomerFeedback'].fillna('', inplace=True)\n",
    "    print(\"Data loaded successfully.\")\n",
    "except FileNotFoundError:\n",
    "    print(\"Error: 'telco_churn_with_all_feedback.csv' not found.\")\n",
    "    exit()\n",
    "\n",
    "# --- 2. Comprehensive Text Preprocessing ---\n",
    "print(\"\\n--- 2. Performing Text Preprocessing for Topic Modeling ---\")\n",
    "lemmatizer = WordNetLemmatizer()\n",
    "stop_words = set(stopwords.words('english'))\n",
    "\n",
    "def preprocess_for_topic_modeling(text):\n",
    "    \"\"\"\n",
    "    Cleans, tokenizes, removes stopwords, and lemmatizes text.\n",
    "    \"\"\"\n",
    "    if not isinstance(text, str):\n",
    "        return \"\"\n",
    "    text = text.lower()\n",
    "    text = re.sub(r'[^\\w\\s]', '', text) # remove punctuation\n",
    "    text = re.sub(r'\\d+', '', text) # remove numbers\n",
    "    tokens = text.split()\n",
    "    # Lemmatize and remove stop words\n",
    "    tokens = [lemmatizer.lemmatize(word) for word in tokens if word not in stop_words]\n",
    "    return ' '.join(tokens)\n",
    "\n",
    "# Apply the preprocessing to the feedback column\n",
    "print(\"Applying preprocessing to 'CustomerFeedback' column...\")\n",
    "df['ProcessedFeedback'] = df['CustomerFeedback'].apply(preprocess_for_topic_modeling)\n",
    "print(\"Text preprocessing complete.\")\n",
    "print(\"Sample of preprocessed feedback:\")\n",
    "print(df[['CustomerFeedback', 'ProcessedFeedback']].head())\n",
    "\n",
    "\n",
    "# --- 3. Train BERTopic Model ---\n",
    "print(\"\\n--- 3. Training BERTopic Model ---\")\n",
    "# We will use a subset of the data for faster training in this environment.\n",
    "# On a more powerful machine, you could use the full dataset.\n",
    "feedback_docs = df['ProcessedFeedback'][df['ProcessedFeedback'] != ''].tolist()\n",
    "sample_docs = feedback_docs[:] # Using a sample of 2000 for speed\n",
    "\n",
    "print(f\"Training topic model on {len(sample_docs)} documents...\")\n",
    "# Initialize BERTopic. We set min_topic_size to control the number of topics.\n",
    "topic_model = BERTopic(language=\"english\", calculate_probabilities=True, min_topic_size=30, verbose=False)\n",
    "\n",
    "# Fit the model and transform the documents to get topic assignments\n",
    "topics, probs = topic_model.fit_transform(sample_docs)\n",
    "print(\"Topic modeling complete. ✓\")\n",
    "\n",
    "\n",
    "# --- 4. Analyze and Visualize Topics ---\n",
    "print(\"\\n--- 4. Analyzing Discovered Topics ---\")\n",
    "\n",
    "# Get the main topic information (frequency, name, etc.)\n",
    "# Topic -1 is for outliers (documents that couldn't be assigned to a specific topic)\n",
    "topic_info = topic_model.get_topic_info()\n",
    "print(\"Top 10 Discovered Topics:\")\n",
    "print(topic_info.head(11))\n",
    "\n",
    "# Visualize the most frequent topics\n",
    "print(\"\\nGenerating Topic Frequency Bar Chart...\")\n",
    "# We visualize the top 10 topics excluding the outlier topic (-1)\n",
    "topic_model.visualize_barchart(top_n_topics=10, n_words=5, title=\"Top 10 Most Frequent Topics\").show()\n",
    "\n",
    "\n",
    "# --- 5. Save the Topic Model and Results ---\n",
    "print(\"\\n--- 5. Saving Topic Model and Data ---\")\n",
    "\n",
    "# For demonstration, we'll assign topics back to the sampled part of the dataframe\n",
    "df_sample = df[df['ProcessedFeedback'] != ''].iloc[:].copy()\n",
    "df_sample['Topic'] = topics\n",
    "\n",
    "# Save the topic model using joblib for consistency\n",
    "joblib.dump(topic_model, 'bertopic_model.pkl')\n",
    "print(\"BERTopic model saved to 'bertopic_model.pkl'\")\n",
    "\n",
    "# Save the sample dataframe with topic assignments\n",
    "df_sample.to_csv('telco_churn_with_topics_sample.csv', index=False)\n",
    "print(\"Sample data with topics saved to 'telco_churn_with_topics_sample.csv'\")\n",
    "\n",
    "print(\"\\nTopic modeling process is complete.\")\n",
    "\n"
   ]
  },
  {
   "cell_type": "code",
   "execution_count": null,
   "id": "c384e6c3",
   "metadata": {},
   "outputs": [
    {
     "name": "stdout",
     "output_type": "stream",
     "text": [
      "Collecting plotly==5.22.0\n",
      "  Downloading plotly-5.22.0-py3-none-any.whl.metadata (7.1 kB)\n",
      "Requirement already satisfied: nbformat>=4.2.0 in e:\\self projects\\proactive_customer_retention_engine\\myenv\\lib\\site-packages (5.10.4)\n",
      "Requirement already satisfied: tenacity>=6.2.0 in e:\\self projects\\proactive_customer_retention_engine\\myenv\\lib\\site-packages (from plotly==5.22.0) (8.5.0)\n",
      "Requirement already satisfied: packaging in e:\\self projects\\proactive_customer_retention_engine\\myenv\\lib\\site-packages (from plotly==5.22.0) (24.2)\n",
      "Requirement already satisfied: fastjsonschema>=2.15 in e:\\self projects\\proactive_customer_retention_engine\\myenv\\lib\\site-packages (from nbformat>=4.2.0) (2.21.1)\n",
      "Requirement already satisfied: jsonschema>=2.6 in e:\\self projects\\proactive_customer_retention_engine\\myenv\\lib\\site-packages (from nbformat>=4.2.0) (4.25.0)\n",
      "Requirement already satisfied: jupyter-core!=5.0.*,>=4.12 in e:\\self projects\\proactive_customer_retention_engine\\myenv\\lib\\site-packages (from nbformat>=4.2.0) (5.8.1)\n",
      "Requirement already satisfied: traitlets>=5.1 in e:\\self projects\\proactive_customer_retention_engine\\myenv\\lib\\site-packages (from nbformat>=4.2.0) (5.14.3)\n",
      "Requirement already satisfied: attrs>=22.2.0 in e:\\self projects\\proactive_customer_retention_engine\\myenv\\lib\\site-packages (from jsonschema>=2.6->nbformat>=4.2.0) (25.3.0)\n",
      "Requirement already satisfied: jsonschema-specifications>=2023.03.6 in e:\\self projects\\proactive_customer_retention_engine\\myenv\\lib\\site-packages (from jsonschema>=2.6->nbformat>=4.2.0) (2025.4.1)\n",
      "Requirement already satisfied: referencing>=0.28.4 in e:\\self projects\\proactive_customer_retention_engine\\myenv\\lib\\site-packages (from jsonschema>=2.6->nbformat>=4.2.0) (0.36.2)\n",
      "Requirement already satisfied: rpds-py>=0.7.1 in e:\\self projects\\proactive_customer_retention_engine\\myenv\\lib\\site-packages (from jsonschema>=2.6->nbformat>=4.2.0) (0.26.0)\n",
      "Requirement already satisfied: platformdirs>=2.5 in e:\\self projects\\proactive_customer_retention_engine\\myenv\\lib\\site-packages (from jupyter-core!=5.0.*,>=4.12->nbformat>=4.2.0) (4.3.8)\n",
      "Requirement already satisfied: pywin32>=300 in e:\\self projects\\proactive_customer_retention_engine\\myenv\\lib\\site-packages (from jupyter-core!=5.0.*,>=4.12->nbformat>=4.2.0) (311)\n",
      "Requirement already satisfied: typing-extensions>=4.4.0 in e:\\self projects\\proactive_customer_retention_engine\\myenv\\lib\\site-packages (from referencing>=0.28.4->jsonschema>=2.6->nbformat>=4.2.0) (4.14.1)\n",
      "Downloading plotly-5.22.0-py3-none-any.whl (16.4 MB)\n",
      "   ---------------------------------------- 0.0/16.4 MB ? eta -:--:--\n",
      "   --------- ------------------------------ 3.9/16.4 MB 19.6 MB/s eta 0:00:01\n",
      "   ------------------------ --------------- 10.0/16.4 MB 23.9 MB/s eta 0:00:01\n",
      "   ------------------------------------- -- 15.5/16.4 MB 24.3 MB/s eta 0:00:01\n",
      "   ---------------------------------------- 16.4/16.4 MB 23.0 MB/s  0:00:00\n",
      "Installing collected packages: plotly\n",
      "  Attempting uninstall: plotly\n",
      "    Found existing installation: plotly 6.2.0\n",
      "    Uninstalling plotly-6.2.0:\n",
      "      Successfully uninstalled plotly-6.2.0\n",
      "Successfully installed plotly-5.22.0\n",
      "Note: you may need to restart the kernel to use updated packages.\n"
     ]
    }
   ],
   "source": [
    "#pip install \"plotly==5.22.0\" \"nbformat>=4.2.0\"\n"
   ]
  },
  {
   "cell_type": "code",
   "execution_count": null,
   "id": "7d5dd593",
   "metadata": {},
   "outputs": [],
   "source": []
  }
 ],
 "metadata": {
  "kernelspec": {
   "display_name": "myenv",
   "language": "python",
   "name": "python3"
  },
  "language_info": {
   "codemirror_mode": {
    "name": "ipython",
    "version": 3
   },
   "file_extension": ".py",
   "mimetype": "text/x-python",
   "name": "python",
   "nbconvert_exporter": "python",
   "pygments_lexer": "ipython3",
   "version": "3.11.9"
  }
 },
 "nbformat": 4,
 "nbformat_minor": 5
}
